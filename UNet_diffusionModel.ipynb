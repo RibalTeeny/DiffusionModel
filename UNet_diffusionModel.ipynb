{
 "cells": [
  {
   "cell_type": "markdown",
   "id": "d16ac8fe-8a28-44aa-ac19-97193bf89d7d",
   "metadata": {},
   "source": [
    "# Diffusion Model: UNet"
   ]
  },
  {
   "cell_type": "markdown",
   "id": "a5fed668-4c68-4950-8ecf-b1cf886f15b9",
   "metadata": {},
   "source": [
    "#### Import Librairies"
   ]
  },
  {
   "cell_type": "code",
   "execution_count": 1,
   "id": "abd58ece",
   "metadata": {},
   "outputs": [],
   "source": [
    "import math\n",
    "from typing import Optional, Tuple, Union, List\n",
    "\n",
    "import torch\n",
    "from torch import nn\n",
    "\n",
    "from labml_helpers.module import Module"
   ]
  },
  {
   "cell_type": "markdown",
   "id": "a5fdf6a9-7fa5-4069-ae9b-45932e3f0c4c",
   "metadata": {},
   "source": [
    "#### Create Activation Function"
   ]
  },
  {
   "cell_type": "code",
   "execution_count": null,
   "id": "70d8ae97-b8f2-4406-aa45-34b6fd5faef3",
   "metadata": {},
   "outputs": [],
   "source": [
    "class SwshActivationFunc():\n",
    "    def forward(self, x):\n",
    "        retuirn x * torch.sigmoid(x)"
   ]
  },
  {
   "cell_type": "markdown",
   "id": "a85d60f7-e725-4e3e-90cf-2350bd803848",
   "metadata": {},
   "source": [
    "#### Create Time Embeddings"
   ]
  },
  {
   "cell_type": "code",
   "execution_count": 4,
   "id": "01a86528-981c-46c8-9b56-897c21c588f7",
   "metadata": {},
   "outputs": [],
   "source": [
    "class TimeEmbedding(nn.Module):\n",
    "    def __init__(self, n_channels: int):\n",
    "        super().__init__()\n",
    "        self.n_channels = n_channels\n",
    "        self.lin1 = nn.Linear(self.n_channels // 4, self.n_channels)\n",
    "        self.act = Swish()\n",
    "        self.lin2 = nn.Linear(self.n_channels, self.n_channels)\n",
    "\n",
    "    def forward(self, t: torch.Tensor):\n",
    "        half_dim = self.n_channels // 8\n",
    "        emb = math.log(10_000) / (half_dim - 1)\n",
    "        emb = torch.exp(torch.arange(half_dim, device=t.device) * -emb)\n",
    "        emb = t[:, None] * emb[None, :]\n",
    "        emb = torch.cat((emb.sin(), emb.cos()), dim=1)\n",
    "        emb = self.act(self.lin1(emb))\n",
    "        emb = self.lin2(emb)\n",
    "\n",
    "        return emb"
   ]
  },
  {
   "cell_type": "markdown",
   "id": "bf42e48d-1e86-4824-8840-74cb2135c30b",
   "metadata": {},
   "source": [
    "#### Create Residual Block"
   ]
  },
  {
   "cell_type": "code",
   "execution_count": null,
   "id": "78fddda5-79ee-4f0b-a478-1b4b6e00e9c0",
   "metadata": {},
   "outputs": [],
   "source": [
    "86class ResidualBlock(Module):\n",
    "    def __init__(self, in_channels: int, out_channels: int, time_channels: int,\n",
    "                 n_groups: int = 32, dropout: float = 0.1):\n",
    "        super().__init__()\n",
    "        self.norm1 = nn.GroupNorm(n_groups, in_channels)\n",
    "        self.act1 = Swish()\n",
    "        self.conv1 = nn.Conv2d(in_channels, out_channels, kernel_size=(3, 3), padding=(1, 1))\n",
    "        self.norm2 = nn.GroupNorm(n_groups, out_channels)\n",
    "        self.act2 = Swish()\n",
    "        self.conv2 = nn.Conv2d(out_channels, out_channels, kernel_size=(3, 3), padding=(1, 1))\n",
    "\n",
    "        if in_channels != out_channels:\n",
    "            self.shortcut = nn.Conv2d(in_channels, out_channels, kernel_size=(1, 1))\n",
    "        else:\n",
    "            self.shortcut = nn.Identity()\n",
    "\n",
    "        self.time_emb = nn.Linear(time_channels, out_channels)\n",
    "        self.time_act = Swish()\n",
    "\n",
    "        self.dropout = nn.Dropout(dropout)\n",
    "\n",
    "    def forward(self, x: torch.Tensor, t: torch.Tensor):\n",
    "        h = self.conv1(self.act1(self.norm1(x)))\n",
    "        h += self.time_emb(self.time_act(t))[:, :, None, None]\n",
    "        h = self.conv2(self.dropout(self.act2(self.norm2(h))))\n",
    "        h = self.conv2(self.dropout(self.act2(self.norm2(h))))\n",
    "        return h + self.shortcut(x)"
   ]
  },
  {
   "cell_type": "markdown",
   "id": "7b4b3ea1-6935-40eb-adaa-3565240a07c5",
   "metadata": {},
   "source": [
    "#### Define Downward and Upward Pass"
   ]
  },
  {
   "cell_type": "code",
   "execution_count": null,
   "id": "9c6e8ce5-4113-40ed-bcf9-417673fed308",
   "metadata": {},
   "outputs": [],
   "source": [
    "class DownBlock(Module):\n",
    "    def __init__(self, in_channels: int, out_channels: int, time_channels: int, has_attn: bool):\n",
    "        super().__init__()\n",
    "        self.res = ResidualBlock(in_channels, out_channels, time_channels)\n",
    "        if has_attn:\n",
    "            self.attn = AttentionBlock(out_channels)\n",
    "        else:\n",
    "            self.attn = nn.Identity()\n",
    "\n",
    "    def forward(self, x: torch.Tensor, t: torch.Tensor):\n",
    "        x = self.res(x, t)\n",
    "        x = self.attn(x)\n",
    "        return x\n",
    "\n",
    "\n",
    "class UpBlock(Module):\n",
    "     def __init__(self, in_channels: int, out_channels: int, time_channels: int, has_attn: bool):\n",
    "        super().__init__()\n",
    "        self.res = ResidualBlock(in_channels + out_channels, out_channels, time_channels)\n",
    "        if has_attn:\n",
    "            self.attn = AttentionBlock(out_channels)\n",
    "        else:\n",
    "            self.attn = nn.Identity()\n",
    "\n",
    "    def forward(self, x: torch.Tensor, t: torch.Tensor):\n",
    "            x = self.res(x, t)\n",
    "            x = self.attn(x)\n",
    "            return x\n",
    "\n",
    "\n",
    "class MiddleBlock(Module)\n",
    "    def __init__(self, n_channels: int, time_channels: int):\n",
    "        super().__init__()\n",
    "        self.res1 = ResidualBlock(n_channels, n_channels, time_channels)\n",
    "        self.attn = AttentionBlock(n_channels)\n",
    "        self.res2 = ResidualBlock(n_channels, n_channels, time_channels)\n",
    "\n",
    "    def forward(self, x: torch.Tensor, t: torch.Tensor):\n",
    "        x = self.res1(x, t)\n",
    "        x = self.attn(x)\n",
    "        x = self.res2(x, t)\n",
    "        return x"
   ]
  },
  {
   "cell_type": "markdown",
   "id": "44895cfa-f9e2-4560-acc7-f3ae3182e5b8",
   "metadata": {},
   "source": [
    "#### Up and Down Sampling"
   ]
  },
  {
   "cell_type": "code",
   "execution_count": null,
   "id": "56c5c132-7347-4c3d-9856-fd1a028b9ff9",
   "metadata": {},
   "outputs": [],
   "source": [
    "class Upsample(nn.Module):\n",
    "    def __init__(self, n_channels):\n",
    "        super().__init__()\n",
    "        self.conv = nn.ConvTranspose2d(n_channels, n_channels, (4, 4), (2, 2), (1, 1))\n",
    "\n",
    "    def forward(self, x: torch.Tensor, t: torch.Tensor):\n",
    "        _ = t\n",
    "        return self.conv(x)\n",
    "\n",
    "\n",
    "class Downsample(nn.Module):\n",
    "    def __init__(self, n_channels):\n",
    "        super().__init__()\n",
    "        self.conv = nn.Conv2d(n_channels, n_channels, (3, 3), (2, 2), (1, 1))\n",
    "\n",
    "    def forward(self, x: torch.Tensor, t: torch.Tensor):\n",
    "        _ = t\n",
    "        return self.conv(x)\n"
   ]
  },
  {
   "cell_type": "markdown",
   "id": "fb545cf2-4291-404b-b59a-e9364fedf50d",
   "metadata": {},
   "source": [
    "#### Assemble UNet"
   ]
  },
  {
   "cell_type": "code",
   "execution_count": null,
   "id": "0f5f2b7b-9ac9-4e0e-9fea-ffa2d661e13a",
   "metadata": {},
   "outputs": [],
   "source": [
    "class UNet(Module):\n",
    "    def __init__(self, image_channels: int = 3, n_channels: int = 64,\n",
    "                 ch_mults: Union[Tuple[int, ...], List[int]] = (1, 2, 2, 4),\n",
    "                 is_attn: Union[Tuple[bool, ...], List[bool]] = (False, False, True, True),\n",
    "                 n_blocks: int = 2):\n",
    "        super().__init__()\n",
    "        n_resolutions = len(ch_mults)\n",
    "        self.image_proj = nn.Conv2d(image_channels, n_channels, kernel_size=(3, 3), padding=(1, 1))\n",
    "        self.time_emb = TimeEmbedding(n_channels * 4)\n",
    "        down = []\n",
    "        out_channels = in_channels = n_channels\n",
    "        "
   ]
  }
 ],
 "metadata": {
  "kernelspec": {
   "display_name": "Python 3 (ipykernel)",
   "language": "python",
   "name": "python3"
  },
  "language_info": {
   "codemirror_mode": {
    "name": "ipython",
    "version": 3
   },
   "file_extension": ".py",
   "mimetype": "text/x-python",
   "name": "python",
   "nbconvert_exporter": "python",
   "pygments_lexer": "ipython3",
   "version": "3.11.5"
  }
 },
 "nbformat": 4,
 "nbformat_minor": 5
}
